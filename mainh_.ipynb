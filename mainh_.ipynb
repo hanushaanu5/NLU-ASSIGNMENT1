{
  "nbformat": 4,
  "nbformat_minor": 0,
  "metadata": {
    "colab": {
      "name": "mainh .ipynb",
      "provenance": [],
      "collapsed_sections": []
    },
    "kernelspec": {
      "name": "python3",
      "display_name": "Python 3"
    },
    "language_info": {
      "name": "python"
    }
  },
  "cells": [
    {
      "cell_type": "code",
      "metadata": {
        "id": "xG-eM7Sj0NGk"
      },
      "source": [
        "import spacy\n"
      ],
      "execution_count": 1,
      "outputs": []
    },
    {
      "cell_type": "code",
      "metadata": {
        "id": "XdFxP31w6vfb"
      },
      "source": [
        "nlp = spacy.load(\"en\")"
      ],
      "execution_count": 2,
      "outputs": []
    },
    {
      "cell_type": "code",
      "metadata": {
        "id": "vSZAKE0b65hd"
      },
      "source": [
        "sentence = 'Smith will join the board as an executive director September 12'\n",
        "#doc2 = nlp(sentence)"
      ],
      "execution_count": 3,
      "outputs": []
    },
    {
      "cell_type": "code",
      "metadata": {
        "colab": {
          "base_uri": "https://localhost:8080/",
          "height": 358
        },
        "id": "RCvO5LwT640y",
        "outputId": "292a6465-db96-48e2-9a71-f05a4c7b9e1c"
      },
      "source": [
        "from spacy import displacy\n",
        "doc = nlp(sentence)\n",
        "displacy.render(doc, style=\"dep\",  jupyter=True, options={'distance': 100})"
      ],
      "execution_count": 4,
      "outputs": [
        {
          "output_type": "display_data",
          "data": {
            "text/html": [
              "<span class=\"tex2jax_ignore\"><svg xmlns=\"http://www.w3.org/2000/svg\" xmlns:xlink=\"http://www.w3.org/1999/xlink\" xml:lang=\"en\" id=\"d77a07a3850a4c5cab314867edd98ee7-0\" class=\"displacy\" width=\"1150\" height=\"337.0\" direction=\"ltr\" style=\"max-width: none; height: 337.0px; color: #000000; background: #ffffff; font-family: Arial; direction: ltr\">\n",
              "<text class=\"displacy-token\" fill=\"currentColor\" text-anchor=\"middle\" y=\"247.0\">\n",
              "    <tspan class=\"displacy-word\" fill=\"currentColor\" x=\"50\">Smith</tspan>\n",
              "    <tspan class=\"displacy-tag\" dy=\"2em\" fill=\"currentColor\" x=\"50\">PROPN</tspan>\n",
              "</text>\n",
              "\n",
              "<text class=\"displacy-token\" fill=\"currentColor\" text-anchor=\"middle\" y=\"247.0\">\n",
              "    <tspan class=\"displacy-word\" fill=\"currentColor\" x=\"150\">will</tspan>\n",
              "    <tspan class=\"displacy-tag\" dy=\"2em\" fill=\"currentColor\" x=\"150\">VERB</tspan>\n",
              "</text>\n",
              "\n",
              "<text class=\"displacy-token\" fill=\"currentColor\" text-anchor=\"middle\" y=\"247.0\">\n",
              "    <tspan class=\"displacy-word\" fill=\"currentColor\" x=\"250\">join</tspan>\n",
              "    <tspan class=\"displacy-tag\" dy=\"2em\" fill=\"currentColor\" x=\"250\">VERB</tspan>\n",
              "</text>\n",
              "\n",
              "<text class=\"displacy-token\" fill=\"currentColor\" text-anchor=\"middle\" y=\"247.0\">\n",
              "    <tspan class=\"displacy-word\" fill=\"currentColor\" x=\"350\">the</tspan>\n",
              "    <tspan class=\"displacy-tag\" dy=\"2em\" fill=\"currentColor\" x=\"350\">DET</tspan>\n",
              "</text>\n",
              "\n",
              "<text class=\"displacy-token\" fill=\"currentColor\" text-anchor=\"middle\" y=\"247.0\">\n",
              "    <tspan class=\"displacy-word\" fill=\"currentColor\" x=\"450\">board</tspan>\n",
              "    <tspan class=\"displacy-tag\" dy=\"2em\" fill=\"currentColor\" x=\"450\">NOUN</tspan>\n",
              "</text>\n",
              "\n",
              "<text class=\"displacy-token\" fill=\"currentColor\" text-anchor=\"middle\" y=\"247.0\">\n",
              "    <tspan class=\"displacy-word\" fill=\"currentColor\" x=\"550\">as</tspan>\n",
              "    <tspan class=\"displacy-tag\" dy=\"2em\" fill=\"currentColor\" x=\"550\">SCONJ</tspan>\n",
              "</text>\n",
              "\n",
              "<text class=\"displacy-token\" fill=\"currentColor\" text-anchor=\"middle\" y=\"247.0\">\n",
              "    <tspan class=\"displacy-word\" fill=\"currentColor\" x=\"650\">an</tspan>\n",
              "    <tspan class=\"displacy-tag\" dy=\"2em\" fill=\"currentColor\" x=\"650\">DET</tspan>\n",
              "</text>\n",
              "\n",
              "<text class=\"displacy-token\" fill=\"currentColor\" text-anchor=\"middle\" y=\"247.0\">\n",
              "    <tspan class=\"displacy-word\" fill=\"currentColor\" x=\"750\">executive</tspan>\n",
              "    <tspan class=\"displacy-tag\" dy=\"2em\" fill=\"currentColor\" x=\"750\">ADJ</tspan>\n",
              "</text>\n",
              "\n",
              "<text class=\"displacy-token\" fill=\"currentColor\" text-anchor=\"middle\" y=\"247.0\">\n",
              "    <tspan class=\"displacy-word\" fill=\"currentColor\" x=\"850\">director</tspan>\n",
              "    <tspan class=\"displacy-tag\" dy=\"2em\" fill=\"currentColor\" x=\"850\">NOUN</tspan>\n",
              "</text>\n",
              "\n",
              "<text class=\"displacy-token\" fill=\"currentColor\" text-anchor=\"middle\" y=\"247.0\">\n",
              "    <tspan class=\"displacy-word\" fill=\"currentColor\" x=\"950\">September</tspan>\n",
              "    <tspan class=\"displacy-tag\" dy=\"2em\" fill=\"currentColor\" x=\"950\">PROPN</tspan>\n",
              "</text>\n",
              "\n",
              "<text class=\"displacy-token\" fill=\"currentColor\" text-anchor=\"middle\" y=\"247.0\">\n",
              "    <tspan class=\"displacy-word\" fill=\"currentColor\" x=\"1050\">12</tspan>\n",
              "    <tspan class=\"displacy-tag\" dy=\"2em\" fill=\"currentColor\" x=\"1050\">NUM</tspan>\n",
              "</text>\n",
              "\n",
              "<g class=\"displacy-arrow\">\n",
              "    <path class=\"displacy-arc\" id=\"arrow-d77a07a3850a4c5cab314867edd98ee7-0-0\" stroke-width=\"2px\" d=\"M70,202.0 C70,102.0 240.0,102.0 240.0,202.0\" fill=\"none\" stroke=\"currentColor\"/>\n",
              "    <text dy=\"1.25em\" style=\"font-size: 0.8em; letter-spacing: 1px\">\n",
              "        <textPath xlink:href=\"#arrow-d77a07a3850a4c5cab314867edd98ee7-0-0\" class=\"displacy-label\" startOffset=\"50%\" side=\"left\" fill=\"currentColor\" text-anchor=\"middle\">nsubj</textPath>\n",
              "    </text>\n",
              "    <path class=\"displacy-arrowhead\" d=\"M70,204.0 L62,192.0 78,192.0\" fill=\"currentColor\"/>\n",
              "</g>\n",
              "\n",
              "<g class=\"displacy-arrow\">\n",
              "    <path class=\"displacy-arc\" id=\"arrow-d77a07a3850a4c5cab314867edd98ee7-0-1\" stroke-width=\"2px\" d=\"M170,202.0 C170,152.0 235.0,152.0 235.0,202.0\" fill=\"none\" stroke=\"currentColor\"/>\n",
              "    <text dy=\"1.25em\" style=\"font-size: 0.8em; letter-spacing: 1px\">\n",
              "        <textPath xlink:href=\"#arrow-d77a07a3850a4c5cab314867edd98ee7-0-1\" class=\"displacy-label\" startOffset=\"50%\" side=\"left\" fill=\"currentColor\" text-anchor=\"middle\">aux</textPath>\n",
              "    </text>\n",
              "    <path class=\"displacy-arrowhead\" d=\"M170,204.0 L162,192.0 178,192.0\" fill=\"currentColor\"/>\n",
              "</g>\n",
              "\n",
              "<g class=\"displacy-arrow\">\n",
              "    <path class=\"displacy-arc\" id=\"arrow-d77a07a3850a4c5cab314867edd98ee7-0-2\" stroke-width=\"2px\" d=\"M370,202.0 C370,152.0 435.0,152.0 435.0,202.0\" fill=\"none\" stroke=\"currentColor\"/>\n",
              "    <text dy=\"1.25em\" style=\"font-size: 0.8em; letter-spacing: 1px\">\n",
              "        <textPath xlink:href=\"#arrow-d77a07a3850a4c5cab314867edd98ee7-0-2\" class=\"displacy-label\" startOffset=\"50%\" side=\"left\" fill=\"currentColor\" text-anchor=\"middle\">det</textPath>\n",
              "    </text>\n",
              "    <path class=\"displacy-arrowhead\" d=\"M370,204.0 L362,192.0 378,192.0\" fill=\"currentColor\"/>\n",
              "</g>\n",
              "\n",
              "<g class=\"displacy-arrow\">\n",
              "    <path class=\"displacy-arc\" id=\"arrow-d77a07a3850a4c5cab314867edd98ee7-0-3\" stroke-width=\"2px\" d=\"M270,202.0 C270,102.0 440.0,102.0 440.0,202.0\" fill=\"none\" stroke=\"currentColor\"/>\n",
              "    <text dy=\"1.25em\" style=\"font-size: 0.8em; letter-spacing: 1px\">\n",
              "        <textPath xlink:href=\"#arrow-d77a07a3850a4c5cab314867edd98ee7-0-3\" class=\"displacy-label\" startOffset=\"50%\" side=\"left\" fill=\"currentColor\" text-anchor=\"middle\">dobj</textPath>\n",
              "    </text>\n",
              "    <path class=\"displacy-arrowhead\" d=\"M440.0,204.0 L448.0,192.0 432.0,192.0\" fill=\"currentColor\"/>\n",
              "</g>\n",
              "\n",
              "<g class=\"displacy-arrow\">\n",
              "    <path class=\"displacy-arc\" id=\"arrow-d77a07a3850a4c5cab314867edd98ee7-0-4\" stroke-width=\"2px\" d=\"M270,202.0 C270,52.0 545.0,52.0 545.0,202.0\" fill=\"none\" stroke=\"currentColor\"/>\n",
              "    <text dy=\"1.25em\" style=\"font-size: 0.8em; letter-spacing: 1px\">\n",
              "        <textPath xlink:href=\"#arrow-d77a07a3850a4c5cab314867edd98ee7-0-4\" class=\"displacy-label\" startOffset=\"50%\" side=\"left\" fill=\"currentColor\" text-anchor=\"middle\">prep</textPath>\n",
              "    </text>\n",
              "    <path class=\"displacy-arrowhead\" d=\"M545.0,204.0 L553.0,192.0 537.0,192.0\" fill=\"currentColor\"/>\n",
              "</g>\n",
              "\n",
              "<g class=\"displacy-arrow\">\n",
              "    <path class=\"displacy-arc\" id=\"arrow-d77a07a3850a4c5cab314867edd98ee7-0-5\" stroke-width=\"2px\" d=\"M670,202.0 C670,102.0 840.0,102.0 840.0,202.0\" fill=\"none\" stroke=\"currentColor\"/>\n",
              "    <text dy=\"1.25em\" style=\"font-size: 0.8em; letter-spacing: 1px\">\n",
              "        <textPath xlink:href=\"#arrow-d77a07a3850a4c5cab314867edd98ee7-0-5\" class=\"displacy-label\" startOffset=\"50%\" side=\"left\" fill=\"currentColor\" text-anchor=\"middle\">det</textPath>\n",
              "    </text>\n",
              "    <path class=\"displacy-arrowhead\" d=\"M670,204.0 L662,192.0 678,192.0\" fill=\"currentColor\"/>\n",
              "</g>\n",
              "\n",
              "<g class=\"displacy-arrow\">\n",
              "    <path class=\"displacy-arc\" id=\"arrow-d77a07a3850a4c5cab314867edd98ee7-0-6\" stroke-width=\"2px\" d=\"M770,202.0 C770,152.0 835.0,152.0 835.0,202.0\" fill=\"none\" stroke=\"currentColor\"/>\n",
              "    <text dy=\"1.25em\" style=\"font-size: 0.8em; letter-spacing: 1px\">\n",
              "        <textPath xlink:href=\"#arrow-d77a07a3850a4c5cab314867edd98ee7-0-6\" class=\"displacy-label\" startOffset=\"50%\" side=\"left\" fill=\"currentColor\" text-anchor=\"middle\">amod</textPath>\n",
              "    </text>\n",
              "    <path class=\"displacy-arrowhead\" d=\"M770,204.0 L762,192.0 778,192.0\" fill=\"currentColor\"/>\n",
              "</g>\n",
              "\n",
              "<g class=\"displacy-arrow\">\n",
              "    <path class=\"displacy-arc\" id=\"arrow-d77a07a3850a4c5cab314867edd98ee7-0-7\" stroke-width=\"2px\" d=\"M570,202.0 C570,52.0 845.0,52.0 845.0,202.0\" fill=\"none\" stroke=\"currentColor\"/>\n",
              "    <text dy=\"1.25em\" style=\"font-size: 0.8em; letter-spacing: 1px\">\n",
              "        <textPath xlink:href=\"#arrow-d77a07a3850a4c5cab314867edd98ee7-0-7\" class=\"displacy-label\" startOffset=\"50%\" side=\"left\" fill=\"currentColor\" text-anchor=\"middle\">pobj</textPath>\n",
              "    </text>\n",
              "    <path class=\"displacy-arrowhead\" d=\"M845.0,204.0 L853.0,192.0 837.0,192.0\" fill=\"currentColor\"/>\n",
              "</g>\n",
              "\n",
              "<g class=\"displacy-arrow\">\n",
              "    <path class=\"displacy-arc\" id=\"arrow-d77a07a3850a4c5cab314867edd98ee7-0-8\" stroke-width=\"2px\" d=\"M270,202.0 C270,2.0 950.0,2.0 950.0,202.0\" fill=\"none\" stroke=\"currentColor\"/>\n",
              "    <text dy=\"1.25em\" style=\"font-size: 0.8em; letter-spacing: 1px\">\n",
              "        <textPath xlink:href=\"#arrow-d77a07a3850a4c5cab314867edd98ee7-0-8\" class=\"displacy-label\" startOffset=\"50%\" side=\"left\" fill=\"currentColor\" text-anchor=\"middle\">npadvmod</textPath>\n",
              "    </text>\n",
              "    <path class=\"displacy-arrowhead\" d=\"M950.0,204.0 L958.0,192.0 942.0,192.0\" fill=\"currentColor\"/>\n",
              "</g>\n",
              "\n",
              "<g class=\"displacy-arrow\">\n",
              "    <path class=\"displacy-arc\" id=\"arrow-d77a07a3850a4c5cab314867edd98ee7-0-9\" stroke-width=\"2px\" d=\"M970,202.0 C970,152.0 1035.0,152.0 1035.0,202.0\" fill=\"none\" stroke=\"currentColor\"/>\n",
              "    <text dy=\"1.25em\" style=\"font-size: 0.8em; letter-spacing: 1px\">\n",
              "        <textPath xlink:href=\"#arrow-d77a07a3850a4c5cab314867edd98ee7-0-9\" class=\"displacy-label\" startOffset=\"50%\" side=\"left\" fill=\"currentColor\" text-anchor=\"middle\">nummod</textPath>\n",
              "    </text>\n",
              "    <path class=\"displacy-arrowhead\" d=\"M1035.0,204.0 L1043.0,192.0 1027.0,192.0\" fill=\"currentColor\"/>\n",
              "</g>\n",
              "</svg></span>"
            ],
            "text/plain": [
              "<IPython.core.display.HTML object>"
            ]
          },
          "metadata": {
            "tags": []
          }
        }
      ]
    },
    {
      "cell_type": "markdown",
      "metadata": {
        "id": "kj0zG2GD7Wfm"
      },
      "source": [
        "#Extract a path of dependency relations from the ROOT to a token"
      ]
    },
    {
      "cell_type": "code",
      "metadata": {
        "id": "uLpY6mro73TC"
      },
      "source": [
        "def extractRootPath(t, doc):\n",
        "    path = []\n",
        "    existing = t\n",
        "    root = 'ROOT'\n",
        "    existing_dependency = existing.dep_\n",
        "    # jump from a token to its head until the root is reached, saving the path\n",
        "    if not existing_dependency == root:\n",
        "      # add the token at the start of the list\n",
        "        path.append([(0, existing_dependency)])\n",
        "        existing = existing.head\n",
        "    # add the root\n",
        "    path.append([(0, root)])\n",
        "    return path\n",
        "\n",
        "def sentroot(sentence):\n",
        "    doc = nlp(sentence)\n",
        "        # for each token in doc get its path using token_path_to_root\n",
        "    paths = {t.text: extractRootPath(t, doc) for t in doc}\n",
        "    return paths\n"
      ],
      "execution_count": 5,
      "outputs": []
    },
    {
      "cell_type": "markdown",
      "metadata": {
        "id": "OC9r0KLg9JEH"
      },
      "source": [
        "#Extract subtree of a dependents given a token"
      ]
    },
    {
      "cell_type": "code",
      "metadata": {
        "id": "iHqkLg8j9OnO"
      },
      "source": [
        "def extractSubTreeDep(sentence):\n",
        "    # for each token in the sentence get its subtree and convert it to a list\n",
        "    doc = nlp(sentence)\n",
        "    chtree = {}\n",
        "    for sentence in doc.sents:\n",
        "        for token in sentence:\n",
        "            chtree[token] = [tksb for tksb in token.subtree]\n",
        "    return chtree\n",
        "    "
      ],
      "execution_count": 6,
      "outputs": []
    },
    {
      "cell_type": "markdown",
      "metadata": {
        "id": "k-4rWlo5-wgF"
      },
      "source": [
        "#Check if a given list of tokens (segment of a sentence) forms a subtree"
      ]
    },
    {
      "cell_type": "code",
      "metadata": {
        "id": "qzQmr1fi-3h1"
      },
      "source": [
        "def checkSegofSenSubtree(sentence, words):\n",
        "    doc = nlp(sentence)\n",
        "    \n",
        "    ## if string in given just converting input sentence to list format tokens\n",
        "    sentList = []\n",
        "    for t in doc:\n",
        "        for word in words:\n",
        "            if t.text == word:\n",
        "                sentList.append(t)\n",
        "                \n",
        "    tokens = sorted(sentList)\n",
        "\n",
        "    for token in tokens:\n",
        "        # check if the token list and the subtree list are equal\n",
        "        if sorted(token.subtree) == tokens:\n",
        "            # if equal Return True\n",
        "            return True\n",
        "    # else False\n",
        "    return False\n"
      ],
      "execution_count": 7,
      "outputs": []
    },
    {
      "cell_type": "code",
      "metadata": {
        "id": "Yr2WjbEaEEiI"
      },
      "source": [
        ""
      ],
      "execution_count": null,
      "outputs": []
    },
    {
      "cell_type": "markdown",
      "metadata": {
        "id": "SV4Mp5JWACDw"
      },
      "source": [
        "#Identify head of a span, given its tokens"
      ]
    },
    {
      "cell_type": "code",
      "metadata": {
        "id": "7KbijV_qAKR8"
      },
      "source": [
        "def headofspan(words):\n",
        "#  next() is used so that its take the input as first sentence\n",
        "    return next(nlp(' '.join(words)).sents).root\n"
      ],
      "execution_count": 8,
      "outputs": []
    },
    {
      "cell_type": "markdown",
      "metadata": {
        "id": "ENo6BrczBRfO"
      },
      "source": [
        "#Extract sentence subject, direct object and indirect object spans"
      ]
    },
    {
      "cell_type": "code",
      "metadata": {
        "id": "Li0dCcbGBcq1"
      },
      "source": [
        "def sub_dobj_iobj(sentence):\n",
        "  doc = nlp(sentence)\n",
        "\n",
        "  nsubj, dobj, iobj = [], [], []\n",
        " \n",
        "  for token in doc:\n",
        "    #if token is subject append into list\n",
        "    if(token.dep_ == 'nsubj'):\n",
        "      nsubj.append(token.text)\n",
        "    #if token is direct object append into list\n",
        "    elif(token.dep_ == 'dobj'):\n",
        "      dobj.append(token.text)\n",
        "    #if token is  ndirect object append into list\n",
        "    elif(token.dep_ == 'iobj'):\n",
        "      iobj.append(token.text)\n",
        "\n",
        "  print(\"nsubj, Stand for subject = : \",nsubj)\n",
        "  print(\"dobj, Stand for direct object = : \",dobj)\n",
        "  print(\"iobj, Stand for indirect object = : \",iobj)"
      ],
      "execution_count": 9,
      "outputs": []
    },
    {
      "cell_type": "markdown",
      "metadata": {
        "id": "s9nHvVivAmqA"
      },
      "source": [
        "##Executing Function"
      ]
    },
    {
      "cell_type": "code",
      "metadata": {
        "id": "ShmEPrluAkVJ",
        "colab": {
          "base_uri": "https://localhost:8080/"
        },
        "outputId": "60d788aa-161e-4a9c-9f7b-ce685c73c3ec"
      },
      "source": [
        "#Calling first function to execute\n",
        "sentroot(sentence)"
      ],
      "execution_count": 10,
      "outputs": [
        {
          "output_type": "execute_result",
          "data": {
            "text/plain": [
              "{'12': [[(0, 'nummod')], [(0, 'ROOT')]],\n",
              " 'September': [[(0, 'npadvmod')], [(0, 'ROOT')]],\n",
              " 'Smith': [[(0, 'nsubj')], [(0, 'ROOT')]],\n",
              " 'an': [[(0, 'det')], [(0, 'ROOT')]],\n",
              " 'as': [[(0, 'prep')], [(0, 'ROOT')]],\n",
              " 'board': [[(0, 'dobj')], [(0, 'ROOT')]],\n",
              " 'director': [[(0, 'pobj')], [(0, 'ROOT')]],\n",
              " 'executive': [[(0, 'amod')], [(0, 'ROOT')]],\n",
              " 'join': [[(0, 'ROOT')]],\n",
              " 'the': [[(0, 'det')], [(0, 'ROOT')]],\n",
              " 'will': [[(0, 'aux')], [(0, 'ROOT')]]}"
            ]
          },
          "metadata": {
            "tags": []
          },
          "execution_count": 10
        }
      ]
    },
    {
      "cell_type": "code",
      "metadata": {
        "id": "nqnOkX8oAwcP",
        "colab": {
          "base_uri": "https://localhost:8080/"
        },
        "outputId": "950d25bb-bf24-4300-c820-3c8e4bb47c9d"
      },
      "source": [
        "#Calling second function to execute\n",
        "extractSubTreeDep(sentence)"
      ],
      "execution_count": 11,
      "outputs": [
        {
          "output_type": "execute_result",
          "data": {
            "text/plain": [
              "{Smith: [Smith],\n",
              " will: [will],\n",
              " join: [Smith,\n",
              "  will,\n",
              "  join,\n",
              "  the,\n",
              "  board,\n",
              "  as,\n",
              "  an,\n",
              "  executive,\n",
              "  director,\n",
              "  September,\n",
              "  12],\n",
              " the: [the],\n",
              " board: [the, board],\n",
              " as: [as, an, executive, director],\n",
              " an: [an],\n",
              " executive: [executive],\n",
              " director: [an, executive, director],\n",
              " September: [September, 12],\n",
              " 12: [12]}"
            ]
          },
          "metadata": {
            "tags": []
          },
          "execution_count": 11
        }
      ]
    },
    {
      "cell_type": "code",
      "metadata": {
        "id": "Zx_p7BytA0SV",
        "colab": {
          "base_uri": "https://localhost:8080/"
        },
        "outputId": "c6de6725-01a0-43ef-bf5b-3c69c2c468a6"
      },
      "source": [
        "#Calling third function to execute\n",
        "checklist1 = ['an', 'executive', 'director']\n",
        "print(checkSegofSenSubtree(sentence,checklist1))\n",
        "checklist2 = ['Smith', 'director','September']\n",
        "print(checkSegofSenSubtree(sentence, checklist2))"
      ],
      "execution_count": 12,
      "outputs": [
        {
          "output_type": "stream",
          "text": [
            "True\n",
            "False\n"
          ],
          "name": "stdout"
        }
      ]
    },
    {
      "cell_type": "code",
      "metadata": {
        "id": "vn5H9DZGA5xm",
        "colab": {
          "base_uri": "https://localhost:8080/"
        },
        "outputId": "830e0417-d50b-4c75-a5ca-9df2fb7f45a0"
      },
      "source": [
        "#Calling forth function to execute\n",
        "print(sentence)\n",
        "headofspan(sentence.split())"
      ],
      "execution_count": 13,
      "outputs": [
        {
          "output_type": "stream",
          "text": [
            "Smith will join the board as an executive director September 12\n"
          ],
          "name": "stdout"
        },
        {
          "output_type": "execute_result",
          "data": {
            "text/plain": [
              "join"
            ]
          },
          "metadata": {
            "tags": []
          },
          "execution_count": 13
        }
      ]
    },
    {
      "cell_type": "code",
      "metadata": {
        "id": "d9iMffSbBAKF",
        "colab": {
          "base_uri": "https://localhost:8080/"
        },
        "outputId": "be84841e-5002-4836-c6d3-27b3e26ebc06"
      },
      "source": [
        "#Calling fifth function to execute\n",
        "sub_dobj_iobj(sentence)"
      ],
      "execution_count": 14,
      "outputs": [
        {
          "output_type": "stream",
          "text": [
            "nsubj, Stand for subject = :  ['Smith']\n",
            "dobj, Stand for direct object = :  ['board']\n",
            "iobj, Stand for indirect object = :  []\n"
          ],
          "name": "stdout"
        }
      ]
    }
  ]
}